{
 "cells": [
  {
   "cell_type": "markdown",
   "metadata": {},
   "source": [
    "# Exploratory Data Analysis\n",
    "## Haberman's Data set\n",
    "\n",
    "Contains details of cancer survival rates"
   ]
  },
  {
   "cell_type": "code",
   "execution_count": null,
   "metadata": {},
   "outputs": [],
   "source": [
    "#Import required packages\n",
    "import pandas as pd\n",
    "import numpy as np\n",
    "import seaborn as sns\n",
    "import matplotlib.pyplot as plt\n",
    "from statsmodels import robust"
   ]
  },
  {
   "cell_type": "code",
   "execution_count": null,
   "metadata": {},
   "outputs": [],
   "source": [
    "#Read the data set\n",
    "df = pd.read_csv('haberman.csv', names = ['Age','Op_Year','axil_nodes','Surv_status'])\n",
    "df"
   ]
  },
  {
   "cell_type": "code",
   "execution_count": null,
   "metadata": {},
   "outputs": [],
   "source": [
    "df.shape"
   ]
  },
  {
   "cell_type": "code",
   "execution_count": null,
   "metadata": {},
   "outputs": [],
   "source": [
    "#Find out survival status counts\n",
    "df['Surv_status'].value_counts()"
   ]
  },
  {
   "cell_type": "code",
   "execution_count": null,
   "metadata": {},
   "outputs": [],
   "source": [
    "#Research and understanding on the features of the data set\n",
    "print(df.columns)\n",
    "\n",
    "#To find the range of years for data set\n",
    "print('Operation years range: {0} - {1}'.format(df['Op_Year'].min(),df['Op_Year'].max()))"
   ]
  },
  {
   "cell_type": "markdown",
   "metadata": {},
   "source": [
    "Data set contains information on patients who have undergone surgery for breast cancer\n",
    "Understanding of above columns:\n",
    "1. Age: Age of the patient as of surgery\n",
    "2. Op_Year: Year of operation (Between 1958-1970 as per kaggle description, but 1958-1970 as per data range)\n",
    "3. axil_nodes: Number of positive axilliary lymph nodes detected during surgery\n",
    "4. Surv_status: Survival status of the patient (1 = Patient survived >= 5 years; 2 = Patient died < 5 years)\n",
    "\n",
    "Sources:\n",
    "1. https://www.kaggle.com/gilsousa/habermans-survival-data-set\n",
    "2. https://www.medicalnewstoday.com/articles/319713.php\n",
    "\n",
    "### Objective: Perform EDA to understand the survival status (Class label) of a patent given Age, Op_Year and axil_nodes"
   ]
  },
  {
   "cell_type": "markdown",
   "metadata": {},
   "source": [
    "### Univariate analysis"
   ]
  },
  {
   "cell_type": "code",
   "execution_count": null,
   "metadata": {},
   "outputs": [],
   "source": [
    "#Distance plot for age relationship with survival status\n",
    "sns.FacetGrid(df, hue = 'Surv_status', size = 5).map(sns.distplot, 'Age').add_legend()\n",
    "plt.show()"
   ]
  },
  {
   "cell_type": "markdown",
   "metadata": {},
   "source": [
    "Ages 30-33 have an assured survival rate of 5+ years while ages 78-83 do not survive beyond 5 years\n",
    "Too much overlap to extract further information from Age on survival rate"
   ]
  },
  {
   "cell_type": "code",
   "execution_count": null,
   "metadata": {},
   "outputs": [],
   "source": [
    "#Distance plot to show relation of operation year with survival status\n",
    "sns.FacetGrid(df, hue = 'Surv_status', size = 5).map(sns.distplot, 'Op_Year').add_legend()\n",
    "plt.show()"
   ]
  },
  {
   "cell_type": "markdown",
   "metadata": {},
   "source": [
    "Survival status seems to not have much relation with the operation year as overlap is throughout the range of years\n",
    "Hence, no assumptions can be made on the impact of improving surgery technology towards the survival rate of a patient"
   ]
  },
  {
   "cell_type": "code",
   "execution_count": null,
   "metadata": {},
   "outputs": [],
   "source": [
    "#Distance plot to show relation between number of axil nodes and survival status\n",
    "sns.FacetGrid(df, hue = 'Surv_status', size = 5).map(sns.distplot, 'axil_nodes').add_legend()\n",
    "plt.show()"
   ]
  },
  {
   "cell_type": "markdown",
   "metadata": {},
   "source": [
    "For fewer number of nodes (0-4), there is a far higher (30% - 15%) chance of the patient surviving beyond 5 years, while as the number of axil nodes increases beyond 5 and upto 25, the patient ranges between 4% - 2% chances of surviving below 5 years, and the chances of surviving beyond 5 years is less than 2%"
   ]
  },
  {
   "cell_type": "code",
   "execution_count": null,
   "metadata": {
    "scrolled": true
   },
   "outputs": [],
   "source": [
    "#Distribute the data frame based on survival status\n",
    "df_1 = df.loc[df['Surv_status'] == 1]\n",
    "df_2 = df.loc[df['Surv_status'] == 2]"
   ]
  },
  {
   "cell_type": "code",
   "execution_count": null,
   "metadata": {},
   "outputs": [],
   "source": [
    "#PDF and CDF for age of patients with survival status 1\n",
    "counts, bin_edges = np.histogram(df_1['Age'], bins = 10, density = True)\n",
    "pdf = counts / (sum(counts))\n",
    "cdf = np.cumsum(pdf)\n",
    "plt.plot(bin_edges[1:],pdf,x = 'Age')\n",
    "plt.plot(bin_edges[1:],cdf,x = 'Age')\n",
    "plt.show()"
   ]
  },
  {
   "cell_type": "markdown",
   "metadata": {},
   "source": [
    "As per cumulative distribution function (CDF), 75% of patients below age 60 have a survival status below 5 years"
   ]
  },
  {
   "cell_type": "code",
   "execution_count": null,
   "metadata": {},
   "outputs": [],
   "source": [
    "#PDF and CDF for axil nodes of patients with survival status 1\n",
    "counts, bin_edges = np.histogram(df_1['axil_nodes'], bins = 10, density = True)\n",
    "pdf = counts / (sum(counts))\n",
    "cdf = np.cumsum(pdf)\n",
    "plt.plot(bin_edges[1:],pdf,x = 'axil_nodes')\n",
    "plt.plot(bin_edges[1:],cdf,x = 'axil_nodes')\n",
    "plt.show()"
   ]
  },
  {
   "cell_type": "code",
   "execution_count": null,
   "metadata": {},
   "outputs": [],
   "source": []
  }
 ],
 "metadata": {
  "kernelspec": {
   "display_name": "Python 3",
   "language": "python",
   "name": "python3"
  },
  "language_info": {
   "codemirror_mode": {
    "name": "ipython",
    "version": 3
   },
   "file_extension": ".py",
   "mimetype": "text/x-python",
   "name": "python",
   "nbconvert_exporter": "python",
   "pygments_lexer": "ipython3",
   "version": "3.7.3"
  }
 },
 "nbformat": 4,
 "nbformat_minor": 2
}
