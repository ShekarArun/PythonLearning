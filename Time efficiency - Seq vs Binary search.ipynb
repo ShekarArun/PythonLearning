{
 "cells": [
  {
   "cell_type": "markdown",
   "metadata": {},
   "source": [
    "# Comparison of sequential and binary search"
   ]
  },
  {
   "cell_type": "markdown",
   "metadata": {},
   "source": [
    "## Sequential search"
   ]
  },
  {
   "cell_type": "code",
   "execution_count": 21,
   "metadata": {},
   "outputs": [],
   "source": [
    "import random\n",
    "\n",
    "#Create randomized array\n",
    "#Not taking below random list because unsure of numbers present\n",
    "#l1 = [random.randint(1,10000) for i in range(5000)]\n",
    "l1 = list(range(10000))\n",
    "random.shuffle(l1)"
   ]
  },
  {
   "cell_type": "code",
   "execution_count": 29,
   "metadata": {},
   "outputs": [
    {
     "name": "stdout",
     "output_type": "stream",
     "text": [
      "221 µs ± 18.9 µs per loop (mean ± std. dev. of 7 runs, 1000 loops each)\n"
     ]
    }
   ],
   "source": [
    "%%timeit\n",
    "#num = int(input(\"Enter a number to search for: \"))\n",
    "num = random.randint(1,10000)\n",
    "\n",
    "found = False\n",
    "for i in l1:\n",
    "    if i == num:\n",
    "        found = True\n",
    "        break\n",
    "        \n",
    "'''\n",
    "if found == True:\n",
    "    print(\"Found\")\n",
    "else:\n",
    "        print(\"Not found\")\n",
    "'''"
   ]
  },
  {
   "cell_type": "markdown",
   "metadata": {},
   "source": [
    "# Binary Search"
   ]
  },
  {
   "cell_type": "code",
   "execution_count": null,
   "metadata": {},
   "outputs": [],
   "source": [
    "%%timeit\n",
    "\n",
    "l1.sort()\n",
    "\n",
    "#Random list exists\n",
    "num = random.randint(1,10000)\n",
    "\n",
    "left = 0\n",
    "right = len(l1) - 1\n",
    "\n",
    "found = False\n",
    "while left <= right:\n",
    "    mid = int((left + right) / 2)\n",
    "    if l1[mid] == num:\n",
    "        found = True\n",
    "        break;\n",
    "    elif l1[mid] < num:\n",
    "        left = mid\n",
    "    else:\n",
    "        right = mid\n",
    "\n",
    "'''\n",
    "if found == True:\n",
    "    print(\"Found\")\n",
    "else:\n",
    "    print(\"Not found\")\n",
    "'''"
   ]
  },
  {
   "cell_type": "code",
   "execution_count": null,
   "metadata": {},
   "outputs": [],
   "source": []
  }
 ],
 "metadata": {
  "kernelspec": {
   "display_name": "Python 3",
   "language": "python",
   "name": "python3"
  },
  "language_info": {
   "codemirror_mode": {
    "name": "ipython",
    "version": 3
   },
   "file_extension": ".py",
   "mimetype": "text/x-python",
   "name": "python",
   "nbconvert_exporter": "python",
   "pygments_lexer": "ipython3",
   "version": "3.7.3"
  }
 },
 "nbformat": 4,
 "nbformat_minor": 2
}
